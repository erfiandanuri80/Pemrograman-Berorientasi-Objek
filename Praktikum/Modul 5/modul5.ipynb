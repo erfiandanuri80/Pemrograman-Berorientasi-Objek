{
 "cells": [
  {
   "cell_type": "code",
   "execution_count": 1,
   "metadata": {
    "collapsed": false
   },
   "outputs": [
    {
     "name": "stdout",
     "output_type": "stream",
     "text": [
      "A= dict_keys([1, 2, 3]) dict_values([10, 20, 30])\n",
      "--------------------\n",
      "a= {1: 10, 2: 20, 3: 30}\n",
      "b= {3: 90, 5: 50}\n",
      "concatDictionary= {1: 10, 2: 20, 3: 90, 5: 50}\n",
      "--------------------\n",
      "a= {1: 10, 2: 20, 3: 30}\n",
      "b= {3: 90, 5: 50}\n",
      "sumDictionary=  {1: 10, 2: 20, 3: 120, 5: 50}\n",
      "--------------------\n",
      "a= {1: 10, 2: 20, 3: 30}\n",
      "b= {3: 90, 5: 50}\n",
      "subDictionary= {1: 10, 2: 20, 3: -60, 5: 50}\n",
      "--------------------\n",
      "a= {1: 10, 2: 20, 3: 30}\n",
      "exDictionary= {1: 100, 2: 400, 3: 900}\n",
      "--------------------\n",
      "data= {3: 30, 1: 50, 2: 20, 9: 2}\n",
      "data urut= {9: 2, 2: 20, 3: 30, 1: 50}\n"
     ]
    }
   ],
   "source": [
    "class Dictionary(dict):\n",
    "    def concat(self,obj):\n",
    "        self.update(obj)\n",
    "        return Dictionary(self)\n",
    "    \n",
    "    def __add__(self,obj):\n",
    "        temp=self.copy()\n",
    "        for x in self.keys():\n",
    "            for y in obj.keys():\n",
    "                if x==y:\n",
    "                    temp[x]=self[x]+obj[x]\n",
    "                else:\n",
    "                    temp[y]=obj[y]\n",
    "        return Dictionary(temp)\n",
    "    \n",
    "    def __sub__(self,obj):\n",
    "        temp=self.copy()\n",
    "        for x in self.keys():\n",
    "            for y in obj.keys():\n",
    "                if x==y:\n",
    "                    temp[x]=self[x]-obj[x]\n",
    "                else:\n",
    "                    temp[y]=obj[y]\n",
    "        return Dictionary(temp)\n",
    "    \n",
    "    def exp(self,n):\n",
    "        temp=self.copy()\n",
    "        for x in self.keys():\n",
    "            temp[x]=self[x]**n\n",
    "        return Dictionary(temp)\n",
    "    \n",
    "    def sort(self):\n",
    "        pos=list(self)\n",
    "        hasil={}\n",
    "        for i in range(len(pos)-1,-1,-1):\n",
    "            for j in range(i):\n",
    "                if self[pos[j]]>self[pos[j+1]]:\n",
    "                    temp=pos[j]\n",
    "                    pos[j]=pos[j+1]\n",
    "                    pos[j+1]=temp\n",
    "        for x in pos:\n",
    "            hasil[x]=self[x]\n",
    "        return Dictionary(hasil)\n",
    "\n",
    "a=Dictionary({1:10,2:20,3:30})\n",
    "b=Dictionary({3:90,5:50})\n",
    "print(\"A=\",a.keys(),a.values())\n",
    "print(\"-\"*20)\n",
    "print(\"a=\",a)\n",
    "print(\"b=\",b)\n",
    "concatDictionary=a.concat(b)\n",
    "print(\"concatDictionary=\",concatDictionary)\n",
    "\n",
    "print(\"-\"*20)\n",
    "a=Dictionary({1:10,2:20,3:30})\n",
    "b=Dictionary({3:90,5:50})\n",
    "sumDictionary=a+b\n",
    "print(\"a=\",a)\n",
    "print(\"b=\",b)\n",
    "print(\"sumDictionary= \",sumDictionary)\n",
    "print(\"-\"*20)\n",
    "subDictionary=a-b\n",
    "print(\"a=\",a)\n",
    "print(\"b=\",b)\n",
    "print(\"subDictionary=\",subDictionary)\n",
    "print(\"-\"*20)\n",
    "exDictionary=a.exp(2)\n",
    "print(\"a=\",a)\n",
    "print(\"exDictionary=\",exDictionary)\n",
    "data=Dictionary({3:30,1:50,2:20,9:2})\n",
    "print(\"-\"*20)\n",
    "sortData=data.sort()\n",
    "print(\"data=\",data)\n",
    "print(\"data urut=\",sortData)\n"
   ]
  }
 ],
 "metadata": {
  "kernelspec": {
   "display_name": "Python 3 (Anaconda 5)",
   "env": {
    "LD_LIBRARY_PATH": "/ext/anaconda5/lib",
    "PROJ_LIB": "/ext/anaconda-2019.03/share/proj",
    "PYTHONHOME": "/ext/anaconda5/lib/python3.5",
    "PYTHONPATH": "/ext/anaconda5/lib/python3.5:/ext/anaconda5/lib/python3.5/site-packages"
   },
   "language": "python",
   "metadata": {
    "cocalc": {
     "description": "Python/R distribution for data science",
     "priority": -1,
     "url": "https://www.anaconda.com/distribution/"
    }
   },
   "name": "anaconda5"
  },
  "language_info": {
   "codemirror_mode": {
    "name": "ipython",
    "version": 3
   },
   "file_extension": ".py",
   "mimetype": "text/x-python",
   "name": "python",
   "nbconvert_exporter": "python",
   "pygments_lexer": "ipython3",
   "version": "3.6.7"
  }
 },
 "nbformat": 4,
 "nbformat_minor": 0
}