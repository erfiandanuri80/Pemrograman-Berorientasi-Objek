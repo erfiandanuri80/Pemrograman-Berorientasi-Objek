{
 "cells": [
  {
   "cell_type": "code",
   "execution_count": 1,
   "metadata": {
    "cocalc": {
     "outputs": {
      "1": {
       "name": "input",
       "opts": {
        "password": false,
        "prompt": "pembilang="
       },
       "output_type": "stream",
       "value": "3"
      },
      "2": {
       "name": "input",
       "opts": {
        "password": false,
        "prompt": "penyebut="
       },
       "output_type": "stream",
       "value": "-5"
      },
      "4": {
       "name": "input",
       "opts": {
        "password": false,
        "prompt": "pembilang="
       },
       "output_type": "stream",
       "value": "4"
      },
      "5": {
       "name": "input",
       "opts": {
        "password": false,
        "prompt": "penyebut="
       },
       "output_type": "stream",
       "value": "3"
      }
     }
    },
    "collapsed": false
   },
   "outputs": [
    {
     "name": "stdout",
     "output_type": "stream",
     "text": [
      "pecahan1\n"
     ]
    },
    {
     "name": "stdout",
     "output_type": "stream",
     "text": "pembilang= 3"
    },
    {
     "name": "stdout",
     "output_type": "stream",
     "text": "penyebut= -5"
    },
    {
     "name": "stdout",
     "output_type": "stream",
     "text": [
      "pecahan2\n"
     ]
    },
    {
     "name": "stdout",
     "output_type": "stream",
     "text": "pembilang= 4"
    },
    {
     "name": "stdout",
     "output_type": "stream",
     "text": "penyebut= 3"
    },
    {
     "name": "stdout",
     "output_type": "stream",
     "text": [
      "3/-5= 3/-5\n",
      "4/3= 1 1/3\n",
      "3/-5 + 1 1/3 = 11/15\n",
      "3/-5 - 1 1/3 = -29/15\n",
      "3/-5 x 1 1/3 = -4/5\n",
      "3/-5 / 1 1/3 = -9/20\n"
     ]
    },
    {
     "data": {
      "text/plain": [
       "'\\nclass fraction menghitung operasi pada pecahan\\npertambahan, pengurangan, perkalian,pembagian\\nexcepsi bilangan negatif masih kurang \\n'"
      ]
     },
     "execution_count": 1,
     "metadata": {
     },
     "output_type": "execute_result"
    }
   ],
   "source": [
    "class Fractionku:\n",
    "    def fpb(self,m,n):\n",
    "        while m%n != 0:\n",
    "            oldm = m\n",
    "            oldn = n\n",
    "            m = oldn\n",
    "            n = oldm%oldn\n",
    "        return n\n",
    "    def __init__(self,top,bottom):\n",
    "        self.num = top\n",
    "        self.den = bottom\n",
    "    def __str__(self):\n",
    "        if self.num > self.den and self.den > 0:\n",
    "            h=self.num//self.den\n",
    "            self.newnum=self.num%self.den\n",
    "            if self.newnum==0:\n",
    "                return str(h)\n",
    "            else:\n",
    "                return str(h)+\" \"+str(self.newnum)+\"/\"+str(self.den)\n",
    "        if self.num < self.den and self.num > 0:\n",
    "            common = self.fpb(self.num,self.den)\n",
    "            newnum=self.num//common\n",
    "            newden=self.den//common\n",
    "            if self.num==0 :\n",
    "                return str(self.num)\n",
    "            else:\n",
    "                return str(newnum)+\"/\"+str(newden)\n",
    "            \n",
    "        if self.den==1 or self.den==-1:\n",
    "            self.num=self.num*self.den\n",
    "            return str(self.num)\n",
    "        if self.num==0 :\n",
    "            return str(self.num)\n",
    "        if self.num==self.den:\n",
    "            return str(1)\n",
    "        else:\n",
    "            return str(self.num)+\"/\"+str(self.den)\n",
    "    def __add__(self,otherfraction):\n",
    "        newnum = self.num*otherfraction.den + self.den*otherfraction.num\n",
    "        newden = self.den * otherfraction.den\n",
    "        common = self.fpb(newnum,newden)\n",
    "        return Fractionku(newnum//common,newden//common)\n",
    "    def __sub__(self,otherfraction):\n",
    "        newnum = self.num*otherfraction.den - self.den*otherfraction.num\n",
    "        newden = self.den * otherfraction.den\n",
    "        common = self.fpb(newnum,newden)\n",
    "        return Fractionku(newnum//common,newden//common)\n",
    "    def __mul__(self,otherfraction):\n",
    "        newnum = self.num*otherfraction.num\n",
    "        newden = self.den*otherfraction.den\n",
    "        common = self.fpb(newnum,newden)\n",
    "        return Fractionku(newnum//common,newden//common)\n",
    "    def __truediv__(self,otherfraction):\n",
    "        newnum=self.num*otherfraction.den\n",
    "        newden=self.den*otherfraction.num\n",
    "        common = self.fpb(newnum,newden)\n",
    "        return Fractionku(newnum//common,newden//common)\n",
    "\n",
    "while True:\n",
    "    try :\n",
    "        print(\"pecahan1\")\n",
    "        p1=int(input(\"pembilang=\"))\n",
    "        p2=int(input(\"penyebut=\"))\n",
    "        x = Fractionku(p1,p2)\n",
    "        print(\"pecahan2\")\n",
    "        p3=int(input(\"pembilang=\"))\n",
    "        p4=int(input(\"penyebut=\"))\n",
    "        y = Fractionku(p3,p4)\n",
    "        print(str(p1)+'/'+str(p2)+\"=\",x)\n",
    "        print(str(p3)+'/'+str(p4)+\"=\",y)\n",
    "        print(x,\"+\",y,\"=\",x+y)\n",
    "        print(x,\"-\",y,\"=\",x-y)\n",
    "        print(x,\"x\",y,\"=\",x*y)\n",
    "        print(x,\"/\",y,\"=\",x/y)\n",
    "        break\n",
    "    except ZeroDivisionError:\n",
    "        print(\"error pembagian dengan nol\")\n",
    "    except ValueError:\n",
    "        print(\"bukan bilangan(integer)\")\n",
    "\"\"\"\n",
    "class fraction menghitung operasi pada pecahan\n",
    "pertambahan, pengurangan, perkalian,pembagian\n",
    "excepsi bilangan negatif masih kurang \n",
    "\"\"\""
   ]
  }
 ],
 "metadata": {
  "kernelspec": {
   "display_name": "Python 3 (Anaconda 5)",
   "env": {
    "LD_LIBRARY_PATH": "/ext/anaconda5/lib",
    "PROJ_LIB": "/ext/anaconda-2019.03/share/proj",
    "PYTHONHOME": "/ext/anaconda5/lib/python3.5",
    "PYTHONPATH": "/ext/anaconda5/lib/python3.5:/ext/anaconda5/lib/python3.5/site-packages"
   },
   "language": "python",
   "metadata": {
    "cocalc": {
     "description": "Python/R distribution for data science",
     "priority": -1,
     "url": "https://www.anaconda.com/distribution/"
    }
   },
   "name": "anaconda5"
  },
  "language_info": {
   "codemirror_mode": {
    "name": "ipython",
    "version": 3
   },
   "file_extension": ".py",
   "mimetype": "text/x-python",
   "name": "python",
   "nbconvert_exporter": "python",
   "pygments_lexer": "ipython3",
   "version": "3.6.7"
  }
 },
 "nbformat": 4,
 "nbformat_minor": 0
}