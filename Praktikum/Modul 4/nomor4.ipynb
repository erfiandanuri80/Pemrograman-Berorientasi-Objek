{
 "cells": [
  {
   "cell_type": "code",
   "execution_count": 6,
   "metadata": {
    "collapsed": false
   },
   "outputs": [
   ],
   "source": [
    "class Matriks(list):\n",
    "    def __str__(self):\n",
    "        data=\"\"\n",
    "        for x in range(len(self)):\n",
    "            print(\"|\",end=\"\")\n",
    "            for y in range(len(self[0])):\n",
    "                temp=str(self[x][y])\n",
    "                print(\" \"*(6-len(temp)) + temp, end=\"\")\n",
    "            print(\"   |\") \n",
    "        return data\n",
    "    def __add__(self,obj):\n",
    "        hasil=[]\n",
    "        if len(self)==len(obj) and len(self[0])==len(obj[0]):\n",
    "            for x in range(len(self)):\n",
    "                temp=[]\n",
    "                for y in range(len(self[0])):\n",
    "                    angka=self[x][y]+obj[x][y]\n",
    "                    temp.append(angka)\n",
    "                hasil.append(temp)\n",
    "            return Matriks(hasil)\n",
    "        else:    \n",
    "            return \"Ukuran Matriks tidak sama\"\n",
    "        \n",
    "    def __sub__(self,obj):\n",
    "        hasil=[]\n",
    "        if len(self)==len(obj) and len(self[0])==len(obj[0]):\n",
    "            for x in range(len(self)):\n",
    "                temp=[]\n",
    "                for y in range(len(self[0])):\n",
    "                    angka=self[x][y]-obj[x][y]\n",
    "                    temp.append(angka)\n",
    "                hasil.append(temp)\n",
    "            return Matriks(hasil)\n",
    "        else:    \n",
    "            return \"Ukuran Matriks tidak sama\"\n",
    "        \n",
    "    def __mul__(self,obj):\n",
    "        hasil = []\n",
    "        if (len(self[0])) != (len(obj)):\n",
    "            return \"Ukuran Matriks tidak sesuai\"\n",
    "        else:\n",
    "            for x in range(len(self)):\n",
    "                temp = []\n",
    "                for y in range(len(obj[0])):\n",
    "                    bil = 0\n",
    "                    for z in range(len(self[0])):\n",
    "                        bil += (self[x][z] * obj[z][y])\n",
    "                    temp.append(bil)\n",
    "                hasil.append(temp)\n",
    "            return Matriks(hasil)\n",
    "        \n",
    "    def determinan(self):\n",
    "        jml=0\n",
    "        if len(self)==2 and len(self[0])==2:\n",
    "            jml=(self[0][0]*self[1][1]) - (self[0][1]*self[1][0])\n",
    "            return jml\n",
    "        else:\n",
    "            return \"Ukuran dibatasi hanya 2x2\"\n",
    "    def __invert__(self):\n",
    "        hasil=[]\n",
    "        if len(self[0])==2 and len(self)==2:\n",
    "            mat=[[self[1][1],-self[0][1]],[-self[1][0],self[0][0]]]\n",
    "            seperdet=(1/(self.determinan()))\n",
    "            for x in range(len(mat)):\n",
    "                temp=[]\n",
    "                for y in range(len(mat[0])):\n",
    "                    temp.append(seperdet*mat[x][y])\n",
    "                hasil.append(temp)\n",
    "            return Matriks(hasil)\n",
    "        else:\n",
    "            return \"Ukuran dibatasi hanya 2x2\""
   ]
  },
  {
   "cell_type": "code",
   "execution_count": 7,
   "metadata": {
    "collapsed": false
   },
   "outputs": [
    {
     "name": "stdout",
     "output_type": "stream",
     "text": [
      "|     1     2     3   |\n",
      "|     4     5     6   |\n",
      "\n",
      "|     1     2   |\n",
      "|     3     4   |\n",
      "\n",
      "Ukuran Matriks tidak sama\n",
      "Ukuran Matriks tidak sesuai\n",
      "-2\n",
      "|  -2.0   1.0   |\n",
      "|   1.5  -0.5   |\n",
      "\n",
      "|   1.0   0.0   |\n",
      "|   0.0   1.0   |\n",
      "\n"
     ]
    }
   ],
   "source": [
    "a=Matriks([[1,2,3],[4,5,6]])\n",
    "b=Matriks([[1,2],[3,4]])\n",
    "c=b-a\n",
    "d=a*b\n",
    "e=b.determinan()\n",
    "f=~b\n",
    "g=f*b\n",
    "print(a)\n",
    "print(b)\n",
    "print(c)\n",
    "print(d)\n",
    "print(e)\n",
    "print(f)\n",
    "print(g)"
   ]
  },
  {
   "cell_type": "code",
   "execution_count": 0,
   "metadata": {
    "collapsed": false
   },
   "outputs": [
   ],
   "source": [
   ]
  }
 ],
 "metadata": {
  "kernelspec": {
   "display_name": "Python 3 (Anaconda 5)",
   "env": {
    "LD_LIBRARY_PATH": "/ext/anaconda5/lib",
    "PROJ_LIB": "/ext/anaconda-2019.03/share/proj",
    "PYTHONHOME": "/ext/anaconda5/lib/python3.5",
    "PYTHONPATH": "/ext/anaconda5/lib/python3.5:/ext/anaconda5/lib/python3.5/site-packages"
   },
   "language": "python",
   "metadata": {
    "cocalc": {
     "description": "Python/R distribution for data science",
     "priority": -1,
     "url": "https://www.anaconda.com/distribution/"
    }
   },
   "name": "anaconda5"
  },
  "language_info": {
   "codemirror_mode": {
    "name": "ipython",
    "version": 3
   },
   "file_extension": ".py",
   "mimetype": "text/x-python",
   "name": "python",
   "nbconvert_exporter": "python",
   "pygments_lexer": "ipython3",
   "version": "3.6.7"
  }
 },
 "nbformat": 4,
 "nbformat_minor": 0
}