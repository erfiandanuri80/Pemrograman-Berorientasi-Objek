{
 "cells": [
  {
   "cell_type": "code",
   "execution_count": 1,
   "metadata": {
    "collapsed": false
   },
   "outputs": [
   ],
   "source": [
    "class catatan:\n",
    "    def __init__(self, judul, tag, isi, tgl):\n",
    "        self.judul=judul\n",
    "        self.tag=tag\n",
    "        self.isi=isi\n",
    "        self.tgl=tgl\n",
    "    def __str__(self):\n",
    "        return \"judul= %s\\ntag= %s\\nisi= %s\\ntanggal= %s\\n=====\\n\"%(self.judul,self.tag,self.isi,self.tgl)\n",
    "    \n",
    "class buku:\n",
    "    def __init__(self,catatan):\n",
    "        self.list_catatan=catatan\n",
    "    def tambah(self,data):\n",
    "        self.list_catatan.append(data)\n",
    "    def display(self):\n",
    "        for c in self.list_catatan:\n",
    "            print(c)\n",
    "    def search(self, f):\n",
    "        found = []\n",
    "        for i in self.list_catatan:\n",
    "            if f in i.tag:\n",
    "                found.append(i)\n",
    "        return buku(found)\n",
    "    def editjudul(self,index,judul):\n",
    "        self.list_catatan[index].judul = judul\n",
    "        return buku(list_catatan)\n",
    "    def edittag(self,index,tag):\n",
    "        self.list_catatan[index].tag = tag\n",
    "        return buku(list_catatan)\n",
    "    def editisi(self,index,isi):\n",
    "        self.list_catatan[index].isi = isi\n",
    "        return buku(list_catatan)\n",
    "    def edittgl(self,index,tgl):\n",
    "        self.list_catatan[index].tgl = tgl\n",
    "        return buku(list_catatan)\n",
    "    def save(self):\n",
    "        f=open(\"file.txt\",\"w\")\n",
    "        for i in self.list_catatan:\n",
    "            f.write(str(i))\n",
    "        f.close()\n",
    "        \n",
    "#f=open(\"file.txt\",\"r\")\n",
    "#print(f.read())\n",
    "list_catatan=[]\n",
    "\n",
    "a=buku(list_catatan)\n",
    "b=catatan(\"List Hewan\", [\"hewan\",\"anjing\",\"kucing\",\"ayam\"],\"nama hewan :\\n1. Anjing\\n2. Kucing\\n3. Ayam\",\"02,12,2019\")\n",
    "c=catatan(\"List Tumbuhan\", [\"Tumbuhan\",\"padi\",\"eceng gondok\",\"mawar\"],\"nama tumbuhan :\\n1. Eceng gondok\\n2. padi\\n3. mawar\",\"10,10,2019\")\n",
    "d=catatan(\"List Setan\", [\"setan\",\"pocong\",\"kuntilanak\",\"genderuwo\"],\"nama setan :\\n1. pocong\\n2. kuntilanak\\n3. genderuwo\",\"11,11,2019\")\n",
    "a.tambah(b)\n",
    "a.tambah(c)\n",
    "a.tambah(d)"
   ]
  },
  {
   "cell_type": "code",
   "execution_count": 2,
   "metadata": {
    "collapsed": false
   },
   "outputs": [
    {
     "name": "stdout",
     "output_type": "stream",
     "text": [
      "judul= List Hewan\n",
      "tag= ['hewan', 'anjing', 'kucing', 'ayam']\n",
      "isi= nama hewan :\n",
      "1. Anjing\n",
      "2. Kucing\n",
      "3. Ayam\n",
      "tanggal= 02,12,2019\n",
      "=====\n",
      "\n",
      "judul= List Tumbuhan\n",
      "tag= ['Tumbuhan', 'padi', 'eceng gondok', 'mawar']\n",
      "isi= nama tumbuhan :\n",
      "1. Eceng gondok\n",
      "2. padi\n",
      "3. mawar\n",
      "tanggal= 10,10,2019\n",
      "=====\n",
      "\n",
      "judul= List Setan\n",
      "tag= ['setan', 'pocong', 'kuntilanak', 'genderuwo']\n",
      "isi= List Hantu\n",
      "tanggal= 11,11,2019\n",
      "=====\n",
      "\n",
      "====================\n"
     ]
    }
   ],
   "source": [
    "#a.search(\"kuntilanak\").display()\n",
    "a.editisi(2,\"List Hantu\").display()\n",
    "print(\"=\"*20)\n",
    "#a.search(\"pocong\").display()\n",
    "#a.edittgl(2,\"20,20,2000\").display()\n",
    "a.save()"
   ]
  }
 ],
 "metadata": {
  "kernelspec": {
   "display_name": "Python 3 (Anaconda 5)",
   "env": {
    "LD_LIBRARY_PATH": "/ext/anaconda5/lib",
    "PROJ_LIB": "/ext/anaconda-2019.03/share/proj",
    "PYTHONHOME": "/ext/anaconda5/lib/python3.5",
    "PYTHONPATH": "/ext/anaconda5/lib/python3.5:/ext/anaconda5/lib/python3.5/site-packages"
   },
   "language": "python",
   "metadata": {
    "cocalc": {
     "description": "Python/R distribution for data science",
     "priority": -1,
     "url": "https://www.anaconda.com/distribution/"
    }
   },
   "name": "anaconda5"
  },
  "language_info": {
   "codemirror_mode": {
    "name": "ipython",
    "version": 3
   },
   "file_extension": ".py",
   "mimetype": "text/x-python",
   "name": "python",
   "nbconvert_exporter": "python",
   "pygments_lexer": "ipython3",
   "version": "3.6.7"
  }
 },
 "nbformat": 4,
 "nbformat_minor": 0
}