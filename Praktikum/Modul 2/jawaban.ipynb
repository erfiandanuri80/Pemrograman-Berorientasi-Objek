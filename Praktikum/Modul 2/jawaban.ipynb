{
 "cells": [
  {
   "cell_type": "code",
   "execution_count": 1,
   "metadata": {
    "collapsed": false
   },
   "outputs": [
   ],
   "source": [
    "import datetime\n",
    "class AsetPerpustakaan:\n",
    "    def __init__(self):\n",
    "        self.buku=[\"Reading\",\"Writing\",\"Listening\"]\n",
    "        self.DVD=[\"Web-tutorial\",\"database-tutorial\",\"android-tutorial\"]\n",
    "        self.jurnal=[\"umum\",\"Ilmiah\",\"sosial\"]\n",
    "        self.majalah=[\"anak\",\"remaja\",\"dewasa\"]\n",
    "        self.onLoan={}\n",
    "    def onClick(self):\n",
    "        num=0\n",
    "        data= [self.buku,self.DVD,self.jurnal,self.majalah]\n",
    "        for x in range(len(data)):\n",
    "            for y in data[x]:\n",
    "                num+=1\n",
    "                if x==0:\n",
    "                    print(str(num)+\". Buku \"+y)\n",
    "                elif x==1:\n",
    "                    print(str(num)+\". DVD \"+y)\n",
    "                elif x==2:\n",
    "                    print(str(num)+\". jurnal \"+y)\n",
    "                else:\n",
    "                    print(str(num)+\". majalah \"+y)\n",
    "        print(\"Jumlah aset : \",num)\n",
    "        #print(\"Jumlah aset : \",len(self.buku)+len(self.DVD)+len(self.jurnal)+len(self.majalah))\n",
    "    \n",
    "class User(AsetPerpustakaan):\n",
    "    def __init__(self,st):\n",
    "        AsetPerpustakaan.__init__(self)\n",
    "        self.__status=st\n",
    "        if self.__status == 1:\n",
    "            self.__status=\"Dosen\"\n",
    "        elif self.__status == 2:\n",
    "            self.__status=\"Pegawai\"\n",
    "        elif self.__status == 3:\n",
    "            self.__status=\"Mahasiswa\"\n",
    "        else:\n",
    "            self.__status=\"Pengunjung\"\n",
    "    def onClick(self):\n",
    "        print(\"Status anda :\",self.__status)\n",
    "        \n",
    "    def onBorrow(self,judul,jenis):\n",
    "        a=datetime.datetime.now()\n",
    "        tmp=int(a.strftime(\"%d\"))+7\n",
    "        tmp1=a.strftime(\"%m\")\n",
    "        tmp2=a.strftime(\"%Y\")\n",
    "        tgl=str(tmp)+\"/\"+tmp1+\"/\"+tmp2\n",
    "        pinjam=False\n",
    "        if jenis==\"buku\":\n",
    "            for i in range(len(self.buku)-1):\n",
    "                if judul==self.buku[i]:\n",
    "                    pinjam=True\n",
    "                    self.buku.pop(i)\n",
    "        elif jenis==\"dvd\":\n",
    "            for i in range (len(self.DVD)-1):\n",
    "                if judul==self.DVD[i]:\n",
    "                    pinjam=True\n",
    "                    self.DVD.pop(i)\n",
    "        elif jenis==\"jurnal\":\n",
    "            for i in range (len(self.jurnal)-1):\n",
    "                if judul==self.jurnal[i]:\n",
    "                    pinjam=True\n",
    "                    self.jurnal.pop(i)\n",
    "        elif jenis==\"majalah\":\n",
    "            for i in range (len(self.majalah)-1):\n",
    "                if judul==self.majalah[i]:\n",
    "                    pinjam=True\n",
    "                    self.majalah.pop(i)\n",
    "        if pinjam==True:\n",
    "            self.onLoan[judul]=tgl\n",
    "        else:\n",
    "            print(\"Aset yang anda cari tidak ada\")\n",
    "            \n",
    "    def onCheck(self):\n",
    "        x=1\n",
    "        print(\"aset yang dipinjam\")\n",
    "        for i in self.onLoan:\n",
    "            print(x,\".\",i,\",Tanggal pengembalian : \",self.onLoan[i])\n",
    "            x=x+1\n",
    "        print(\"jumlah : \",x-1)\n",
    "        "
   ]
  },
  {
   "cell_type": "code",
   "execution_count": 2,
   "metadata": {
    "collapsed": false
   },
   "outputs": [
    {
     "name": "stdout",
     "output_type": "stream",
     "text": [
      "1. Buku Reading\n",
      "2. Buku Writing\n",
      "3. Buku Listening\n",
      "4. DVD Web-tutorial\n",
      "5. DVD database-tutorial\n",
      "6. DVD android-tutorial\n",
      "7. jurnal umum\n",
      "8. jurnal Ilmiah\n",
      "9. jurnal sosial\n",
      "10. majalah anak\n",
      "11. majalah remaja\n",
      "12. majalah dewasa\n",
      "Jumlah aset :  12\n",
      "Aset yang anda cari tidak ada\n",
      "Aset yang anda cari tidak ada\n",
      "aset yang dipinjam\n",
      "1 . Reading ,Tanggal pengembalian :  10/10/2019\n",
      "2 . Writing ,Tanggal pengembalian :  10/10/2019\n",
      "jumlah :  2\n",
      "Status anda : Pengunjung\n"
     ]
    }
   ],
   "source": [
    "a =AsetPerpustakaan()\n",
    "a.onClick()\n",
    "b=User(4)\n",
    "#b.onClick()\n",
    "b.onBorrow(\"Reading\",\"buku\")\n",
    "b.onBorrow(\"Writing\",\"buku\")\n",
    "b.onBorrow(\"Web-tutorial\",\"DVD\")\n",
    "b.onBorrow(\"Writting\",\"DVD\")\n",
    "b.onCheck()\n",
    "b.onClick()\n",
    "#print(b.onLoan)\n",
    "#print(b.dateonLoan)"
   ]
  },
  {
   "cell_type": "code",
   "execution_count": 3,
   "metadata": {
    "collapsed": false
   },
   "outputs": [
    {
     "name": "stdout",
     "output_type": "stream",
     "text": [
      "2019-10-03 12:21:18.763664\n"
     ]
    }
   ],
   "source": [
    "a=datetime.datetime.now()\n",
    "print(a)"
   ]
  },
  {
   "cell_type": "code",
   "execution_count": 4,
   "metadata": {
    "collapsed": false
   },
   "outputs": [
   ],
   "source": [
    "class bentukMatematika:\n",
    "    def onClick(self):\n",
    "        raise NotImplementedError(\"Subclass must implement abstractmethod\")\n",
    "\n",
    "class Lingkaran(bentukMatematika):\n",
    "    def onClick(self):\n",
    "        print(\" ini bentuk lingkaran\")\n",
    "        \n",
    "class PersegiPanjang(bentukMatematika):\n",
    "    def onClick(self):\n",
    "        print (\"ini bentuk Persegi Panjang\")\n",
    "        \n",
    "class Segitiga(bentukMatematika):\n",
    "    def onClick(self):\n",
    "        print (\"ini bentuk segitiga\")\n",
    "        \n",
    "class Kotak(bentukMatematika):\n",
    "    def onClick(self):\n",
    "        print (\"ini bentuk kotak/persegi\")"
   ]
  },
  {
   "cell_type": "code",
   "execution_count": 11,
   "metadata": {
    "collapsed": false
   },
   "outputs": [
    {
     "name": "stdout",
     "output_type": "stream",
     "text": [
      " ini bentuk lingkaran\n"
     ]
    }
   ],
   "source": [
    "a=Lingkaran()\n",
    "a.onClick()"
   ]
  },
  {
   "cell_type": "code",
   "execution_count": 0,
   "metadata": {
    "collapsed": false
   },
   "outputs": [
   ],
   "source": [
   ]
  }
 ],
 "metadata": {
  "kernelspec": {
   "display_name": "Python 3 (Anaconda 5)",
   "env": {
    "LD_LIBRARY_PATH": "/ext/anaconda5/lib",
    "PROJ_LIB": "/ext/anaconda-2019.03/share/proj",
    "PYTHONHOME": "/ext/anaconda5/lib/python3.5",
    "PYTHONPATH": "/ext/anaconda5/lib/python3.5:/ext/anaconda5/lib/python3.5/site-packages"
   },
   "language": "python",
   "metadata": {
    "cocalc": {
     "description": "Python/R distribution for data science",
     "priority": -1,
     "url": "https://www.anaconda.com/distribution/"
    }
   },
   "name": "anaconda5"
  },
  "language_info": {
   "codemirror_mode": {
    "name": "ipython",
    "version": 3
   },
   "file_extension": ".py",
   "mimetype": "text/x-python",
   "name": "python",
   "nbconvert_exporter": "python",
   "pygments_lexer": "ipython3",
   "version": "3.6.7"
  }
 },
 "nbformat": 4,
 "nbformat_minor": 0
}