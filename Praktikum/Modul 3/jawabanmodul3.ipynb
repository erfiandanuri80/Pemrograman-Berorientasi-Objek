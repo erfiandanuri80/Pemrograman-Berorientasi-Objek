{
 "cells": [
  {
   "cell_type": "markdown",
   "metadata": {
    "collapsed": false
   },
   "source": [
    "## Pemrograman Berorientasi Objek\n",
    "\n",
    "Praktikum – 3 : Inheritance\n"
   ]
  },
  {
   "cell_type": "code",
   "execution_count": 0,
   "metadata": {
    "collapsed": false
   },
   "outputs": [
   ],
   "source": [
   ]
  },
  {
   "cell_type": "code",
   "execution_count": 4,
   "metadata": {
    "collapsed": false
   },
   "outputs": [
   ],
   "source": [
    "from datetime import datetime\n",
    "class AsetPerpustakaan:\n",
    "    def __init__(self):\n",
    "        self.buku=[\"Reading\",\"Writing\",\"Listening\"]\n",
    "        self.DVD=[\"Web-tutorial\",\"database-tutorial\",\"android-tutorial\"]\n",
    "        self.jurnal=[\"umum\",\"Ilmiah\",\"sosial\"]\n",
    "        self.majalah=[\"anak\",\"remaja\",\"dewasa\"]\n",
    "        self.onLoan={}\n",
    "    def onClick(self):\n",
    "        num=0\n",
    "        data= [self.buku,self.DVD,self.jurnal,self.majalah]\n",
    "        for x in range(len(data)):\n",
    "            for y in data[x]:\n",
    "                num+=1\n",
    "                if x==0:\n",
    "                    print(str(num)+\". Buku \"+y)\n",
    "                elif x==1:\n",
    "                    print(str(num)+\". DVD \"+y)\n",
    "                elif x==2:\n",
    "                    print(str(num)+\". jurnal \"+y)\n",
    "                else:\n",
    "                    print(str(num)+\". majalah \"+y)\n",
    "        print(\"Jumlah aset : \",num)\n",
    "        #print(\"Jumlah aset : \",len(self.buku)+len(self.DVD)+len(self.jurnal)+len(self.majalah))\n",
    "        \n",
    "idUser = 1    \n",
    "class User(AsetPerpustakaan):\n",
    "    def __init__(self,listTgl,nama):\n",
    "        AsetPerpustakaan.__init__(self)\n",
    "        global idUser\n",
    "        self.idUser=idUser\n",
    "        self.nama= nama\n",
    "        self.ttl=listTgl\n",
    "        idUser=idUser+1\n",
    "    def umurSekarang(self):\n",
    "        self.ttl ='/'.join(self.ttl)\n",
    "        year1=datetime.strptime(self.ttl, \"%Y/%m/%d\").year\n",
    "        month1=datetime.strptime(self.ttl, \"%Y/%m/%d\").month\n",
    "        day1=datetime.strptime(self.ttl, \"%Y/%m/%d\").day\n",
    "        yearnow=datetime.now().year\n",
    "        monthnow=datetime.now().month\n",
    "        daynow=datetime.now().day\n",
    "        if monthnow < month1:\n",
    "            umur = yearnow - year1 - 1\n",
    "            monthnew = monthnow\n",
    "        elif monthnow == month1 and daynow < day1 :\n",
    "            umur = yearnow - year1 - 1  \n",
    "        else:\n",
    "            umur = yearnow - year1\n",
    "        return umur\n",
    "\n",
    "    def onClick(self):\n",
    "        print(\"Status anda :\",self.__status)\n",
    "        \n",
    "    def onBorrow(self,judul,jenis):\n",
    "        a=datetime.datetime.now()\n",
    "        tmp=int(a.strftime(\"%d\"))+7\n",
    "        tmp1=a.strftime(\"%m\")\n",
    "        tmp2=a.strftime(\"%Y\")\n",
    "        tgl=str(tmp)+\"/\"+tmp1+\"/\"+tmp2\n",
    "        pinjam=False\n",
    "        if jenis.lower()==\"buku\":\n",
    "            for i in range(len(self.buku)-1):\n",
    "                if judul==self.buku[i]:\n",
    "                    pinjam=True\n",
    "                    self.buku.pop(i)\n",
    "        elif jenis.lower()==\"dvd\":\n",
    "            for i in range (len(self.DVD)-1):\n",
    "                if judul==self.DVD[i]:\n",
    "                    pinjam=True\n",
    "                    self.DVD.pop(i)\n",
    "        elif jenis.lower()==\"jurnal\":\n",
    "            for i in range (len(self.jurnal)-1):\n",
    "                if judul==self.jurnal[i]:\n",
    "                    pinjam=True\n",
    "                    self.jurnal.pop(i)\n",
    "        elif jenis.lower()==\"majalah\":\n",
    "            for i in range (len(self.majalah)-1):\n",
    "                if judul==self.majalah[i]:\n",
    "                    pinjam=True\n",
    "                    self.majalah.pop(i)\n",
    "        if pinjam==True:\n",
    "            self.onLoan[judul]=tgl\n",
    "        else:\n",
    "            print(\"Aset yang anda cari tidak ada\")\n",
    "            \n",
    "    def onCheck(self):\n",
    "        x=1\n",
    "        print(\"aset yang dipinjam\")\n",
    "        for i in self.onLoan:\n",
    "            print(x,\".\",i,\",Tanggal pengembalian : \",self.onLoan[i])\n",
    "            x=x+1\n",
    "        print(\"jumlah : \",x-1)\n",
    "        \n"
   ]
  },
  {
   "cell_type": "code",
   "execution_count": 5,
   "metadata": {
    "collapsed": false
   },
   "outputs": [
   ],
   "source": [
    "class Mahasiswa(User):\n",
    "    def __init__(self,nama,fakultas,prodi,listTgl):\n",
    "        User.__init__(self,listTgl,nama)\n",
    "        self.__fakultas=fakultas\n",
    "        self.__prodi=prodi\n",
    "    def onClick(self):\n",
    "        print(\"Mahasiswa dengan ID - M\" + str(self.idUser))\n",
    "        print(\"Nama     : \",self.nama,\"\\nFakultas : \",self.__fakultas,\"\\nProdi    : \",self.__prodi,\"\\nUmur     : \",self.umurSekarang())\n",
    "        print(\"-\"*20)\n",
    "        \n",
    "class Dosen(User):\n",
    "    def __init__(self,nama,prodi,listTgl):\n",
    "        User.__init__(self,listTgl,nama)\n",
    "        self.__prodi=prodi\n",
    "    def onClick(self):\n",
    "        print(\"Dosen dengan ID - D\" + str(self.idUser))\n",
    "        print(\"nama     : \",self.nama,\"\\nUnit     : \",self.__prodi,\"\\nUmur     : \",self.umurSekarang())\n",
    "        print(\"-\"*20)\n",
    "\n",
    "class Pegawai(User):\n",
    "    def __init__(self,nama,unitKerja,listTgl):\n",
    "        User.__init__(self,listTgl,nama)\n",
    "        self.__unit=unitKerja\n",
    "        \n",
    "    def onClick(self):\n",
    "        print(\"Pegawai dengan ID - P\" + str(self.idUser))\n",
    "        print(\"nama     : \",self.nama,\"\\nUnit     : \",self.__unit,\"\\nUmur     : \",self.umurSekarang())\n",
    "        print(\"-\"*20)"
   ]
  },
  {
   "cell_type": "code",
   "execution_count": 6,
   "metadata": {
    "cocalc": {
     "outputs": {
      "1": {
       "name": "input",
       "opts": {
        "password": false,
        "prompt": "nama : "
       },
       "output_type": "stream",
       "value": "RIO"
      },
      "2": {
       "name": "input",
       "opts": {
        "password": false,
        "prompt": "Unit kerja : "
       },
       "output_type": "stream",
       "value": "REKTOR"
      },
      "3": {
       "name": "input",
       "opts": {
        "password": false,
        "prompt": "Tanggal lahir - yyyy,mm,dd : "
       },
       "output_type": "stream",
       "value": "1998,09,19"
      },
      "4": {
       "name": "input",
       "opts": {
        "password": false,
        "prompt": "lagi y/t ?"
       },
       "output_type": "stream",
       "value": "t"
      }
     }
    },
    "collapsed": false
   },
   "outputs": [
    {
     "name": "stdout",
     "output_type": "stream",
     "text": [
      "input data pegawai\n"
     ]
    },
    {
     "name": "stdout",
     "output_type": "stream",
     "text": "nama :  RIO"
    },
    {
     "name": "stdout",
     "output_type": "stream",
     "text": "Unit kerja :  REKTOR"
    },
    {
     "name": "stdout",
     "output_type": "stream",
     "text": "Tanggal lahir - yyyy,mm,dd :  1998,09,19"
    },
    {
     "name": "stdout",
     "output_type": "stream",
     "text": "lagi y/t ? t"
    }
   ],
   "source": [
    "Peg=[]\n",
    "print(\"input data pegawai\")\n",
    "stop=False\n",
    "while not(stop):\n",
    "    nama=input(\"nama : \")\n",
    "    unitKerja=input(\"Unit kerja : \")\n",
    "    tanggalLahir=input(\"Tanggal lahir - yyyy,mm,dd : \")\n",
    "    listTgl=(tanggalLahir.split(\",\"))\n",
    "    Peg.append(Pegawai(nama,unitKerja,listTgl))\n",
    "    lagi=input(\"lagi y/t ?\")\n",
    "    if lagi ==\"t\":\n",
    "        stop = True"
   ]
  },
  {
   "cell_type": "code",
   "execution_count": 8,
   "metadata": {
    "cocalc": {
     "outputs": {
      "1": {
       "name": "input",
       "opts": {
        "password": false,
        "prompt": "nama : "
       },
       "output_type": "stream",
       "value": "REFAN"
      },
      "2": {
       "name": "input",
       "opts": {
        "password": false,
        "prompt": "Prodi : "
       },
       "output_type": "stream",
       "value": "ISLAM"
      },
      "3": {
       "name": "input",
       "opts": {
        "password": false,
        "prompt": "Tanggal lahir - yyyy,mm,dd : "
       },
       "output_type": "stream",
       "value": "2000,10,10"
      },
      "4": {
       "name": "input",
       "opts": {
        "password": false,
        "prompt": "lagi y/t ?"
       },
       "output_type": "stream",
       "value": "t"
      }
     }
    },
    "collapsed": false
   },
   "outputs": [
    {
     "name": "stdout",
     "output_type": "stream",
     "text": [
      "input data Dosen\n"
     ]
    },
    {
     "name": "stdout",
     "output_type": "stream",
     "text": "nama :  REFAN"
    },
    {
     "name": "stdout",
     "output_type": "stream",
     "text": "Prodi :  ISLAM"
    },
    {
     "name": "stdout",
     "output_type": "stream",
     "text": "Tanggal lahir - yyyy,mm,dd :  2000,10,10"
    },
    {
     "name": "stdout",
     "output_type": "stream",
     "text": "lagi y/t ? t"
    }
   ],
   "source": [
    "Dos=[]\n",
    "print(\"input data Dosen\")\n",
    "stop=False\n",
    "while not(stop):\n",
    "    nama=input(\"nama : \")\n",
    "    prodi=input(\"Prodi : \")\n",
    "    tanggalLahir=input(\"Tanggal lahir - yyyy,mm,dd : \")\n",
    "    listTgl=(tanggalLahir.split(\",\"))\n",
    "    Dos.append(Dosen(nama,prodi,listTgl))\n",
    "    lagi=input(\"lagi y/t ?\")\n",
    "    if lagi ==\"t\":\n",
    "        stop = True"
   ]
  },
  {
   "cell_type": "code",
   "execution_count": 12,
   "metadata": {
    "cocalc": {
     "outputs": {
      "1": {
       "name": "input",
       "opts": {
        "password": false,
        "prompt": "nama : "
       },
       "output_type": "stream",
       "value": "sad"
      },
      "2": {
       "name": "input",
       "opts": {
        "password": false,
        "prompt": "Fakultas : "
       },
       "output_type": "stream",
       "value": "sda"
      },
      "3": {
       "name": "input",
       "opts": {
        "password": false,
        "prompt": "Prodi : "
       },
       "output_type": "stream",
       "value": "da"
      },
      "4": {
       "name": "input",
       "opts": {
        "password": false,
        "prompt": "Tanggal lahir - yyyy,mm,dd : "
       },
       "output_type": "stream",
       "value": "2000,10,11"
      },
      "5": {
       "name": "input",
       "opts": {
        "password": false,
        "prompt": "lagi y/t ?"
       },
       "output_type": "stream",
       "value": "t"
      }
     }
    },
    "collapsed": false
   },
   "outputs": [
    {
     "name": "stdout",
     "output_type": "stream",
     "text": [
      "input data Mahasiswa\n"
     ]
    },
    {
     "name": "stdout",
     "output_type": "stream",
     "text": "nama :  sad"
    },
    {
     "name": "stdout",
     "output_type": "stream",
     "text": "Fakultas :  sda"
    },
    {
     "name": "stdout",
     "output_type": "stream",
     "text": "Prodi :  da"
    },
    {
     "name": "stdout",
     "output_type": "stream",
     "text": "Tanggal lahir - yyyy,mm,dd :  2000,10,11"
    },
    {
     "name": "stdout",
     "output_type": "stream",
     "text": "lagi y/t ? t"
    }
   ],
   "source": [
    "Mhs=[]\n",
    "print(\"input data Mahasiswa\")\n",
    "stop=False\n",
    "while not(stop):\n",
    "    nama=input(\"nama : \")\n",
    "    fakultas=input(\"Fakultas : \")\n",
    "    prodi=input(\"Prodi : \")\n",
    "    tanggalLahir=input(\"Tanggal lahir - yyyy,mm,dd : \")\n",
    "    listTgl=(tanggalLahir.split(\",\"))\n",
    "    Mhs.append(Mahasiswa(nama,fakultas,prodi,listTgl))\n",
    "    lagi=input(\"lagi y/t ?\")\n",
    "    if lagi ==\"t\":\n",
    "        stop = True"
   ]
  },
  {
   "cell_type": "code",
   "execution_count": 13,
   "metadata": {
    "collapsed": false
   },
   "outputs": [
    {
     "name": "stdout",
     "output_type": "stream",
     "text": [
      "Mahasiswa dengan ID - M4\n",
      "Nama     :  sad \n",
      "Fakultas :  sda \n",
      "Prodi    :  da \n",
      "Umur     :  18\n",
      "--------------------\n"
     ]
    }
   ],
   "source": [
    "#for i in Peg:\n",
    "#    i.onClick()\n",
    "#for i in Dos:\n",
    "#   i.onClick()\n",
    "for x in Mhs:\n",
    "    x.onClick()"
   ]
  },
  {
   "cell_type": "code",
   "execution_count": 0,
   "metadata": {
    "collapsed": false
   },
   "outputs": [
   ],
   "source": [
    "print(len(Mhs))"
   ]
  },
  {
   "cell_type": "code",
   "execution_count": 0,
   "metadata": {
    "collapsed": false
   },
   "outputs": [
   ],
   "source": [
   ]
  }
 ],
 "metadata": {
  "kernelspec": {
   "display_name": "Python 3 (Anaconda 5)",
   "env": {
    "LD_LIBRARY_PATH": "/ext/anaconda5/lib",
    "PROJ_LIB": "/ext/anaconda-2019.03/share/proj",
    "PYTHONHOME": "/ext/anaconda5/lib/python3.5",
    "PYTHONPATH": "/ext/anaconda5/lib/python3.5:/ext/anaconda5/lib/python3.5/site-packages"
   },
   "language": "python",
   "metadata": {
    "cocalc": {
     "description": "Python/R distribution for data science",
     "priority": -1,
     "url": "https://www.anaconda.com/distribution/"
    }
   },
   "name": "anaconda5"
  },
  "language_info": {
   "codemirror_mode": {
    "name": "ipython",
    "version": 3
   },
   "file_extension": ".py",
   "mimetype": "text/x-python",
   "name": "python",
   "nbconvert_exporter": "python",
   "pygments_lexer": "ipython3",
   "version": "3.6.7"
  }
 },
 "nbformat": 4,
 "nbformat_minor": 0
}